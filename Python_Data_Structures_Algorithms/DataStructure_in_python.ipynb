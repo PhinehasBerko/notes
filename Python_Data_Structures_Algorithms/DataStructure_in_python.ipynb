{
 "cells": [
  {
   "cell_type": "markdown",
   "id": "b5e89d56-8d23-46df-afa0-b8c4fc6f0687",
   "metadata": {},
   "source": [
    "## Data structures in Python"
   ]
  },
  {
   "cell_type": "raw",
   "id": "ab8bc7c3-9259-41cb-a663-ff385bf7ce09",
   "metadata": {},
   "source": [
    "Data structures is a way to organize, process, and store and retrieve data from the computer system\n",
    "There are several data structures which includes:\n",
    "1. Arrays\n",
    "2. Heap\n",
    "3. Hash table\n",
    "4. Stack \n",
    "5. Queque\n",
    "6. Graph \n",
    "7. binary trees\n",
    "8. Link - list\n",
    "9. Matrix\n",
    "\n",
    "\n",
    "The various data structures in computer science are divided broadly into two categories \n",
    "as shown below\n",
    "- Linear Data Structure\n",
    " => These are the data structures which store the data elements in a sequential manner. \n",
    "\n",
    "    - Arrays = It is a sequential arrangement of data elements paired with the index of the data element.\n",
    "\n",
    "    - Link-list = Each data element contains a link to another element, along with the data present in it.\n",
    "\n",
    "    - Stack = is a data structure that follows only to specific order of operation such as LIFO (Last In First Out) or FILO (First In Last Out)\n",
    "\n",
    "    - Queue = is a data structure that follow only a specific order just like \" Stack \" such as FIFO (First In First Out) or LILO (Last In Last Out)\n",
    "\n",
    "    - Matrix = is a two dimensional data structure in which, the elements are reffered by a pair of indices\n",
    "\n",
    "- Non-Linear Data Structure\n",
    "\n",
    " => These are the data structures in which, there is no sequential linking of data elements. \n",
    "\n",
    "    Any pair or group of data elements can be linked to each other and can be accessed without a strict sequence. \n",
    "\n",
    "    - Binary Tree = is a type of data structure where each data element is connected to a maximum of two other data element and it start with a root node\n",
    "   \n",
    "    - Heap = is a special type of Tree data structures, where the data in the parent node is either strictly greater then / equal to the child node or strictly less then the child node\n",
    "\n",
    "    - Hash Table = is a data structure which is made up of arrays associated with each other using a hash function. \n",
    "\n",
    "    It retrieves values using keys rather than index from the data elements\n",
    "\n",
    "    - Graph = is an arrangement of vertices and nodes, where some nodes are connected through links \n"
   ]
  },
  {
   "cell_type": "markdown",
   "id": "6b991f3d-d5d2-4d69-bbcc-cf2446a893df",
   "metadata": {},
   "source": [
    "Questions"
   ]
  },
  {
   "cell_type": "markdown",
   "id": "c4320f4f-e1cb-40c9-ab83-26895d34739b",
   "metadata": {},
   "source": [
    "Define the following\n",
    "1. Data Structures\n",
    "2. Linear Data structures \n",
    "3. Non-Linear Data structures\n",
    "4. Array\n",
    "5. Link-list\n",
    "6. Stacks\n",
    "7. Queues\n",
    "8. Matrices\n",
    "9. Binary trees\n",
    "10. Heap\n",
    "11. Graphs\n",
    "12. Hash tables\n"
   ]
  },
  {
   "cell_type": "markdown",
   "id": "55723f79-c98d-45ff-abdd-ac92d30ead1d",
   "metadata": {},
   "source": [
    "Answers\n",
    "1. Data Structures  -> are specialized format of organizing, processing, storing and \n",
    "    retrieving data in the computer system.\n",
    "2. Linear Data Structures -> are data structures that manipulate data in a sequential\n",
    "    manner.\n",
    "3. Non-Linear Data Structures -> are data structures that \n",
    "\n",
    "4. Array -> is a type of data structures where data element a arranged in a sequential manner with an index as a reference to each data element.\n",
    "   \n",
    "5. Link-list => is a type of data structures where data element contains a link to another data element together with it reference.\n",
    "   \n",
    "6. Stacks => is a data structures where data elements are arranged in a FILO - (First In Last Out) or LIFO - (Last In First Out)\n",
    "\n",
    "7. Queues => is a data structure where data element are arrange in a FIFO or LILO manner.\n",
    "\n",
    "8. Matrices => is a two dimensional array whose data element is referenced by a pair of indices.\n",
    "\n",
    "9. Binary trees => is a data structures which has a root node as a parent node and a maximum of two other nodes\n",
    "\n",
    "10. Heap => is a special type of binary trees where the parent node must either be strictly greater than / equal to the child node or  strictly less than child node.\n",
    "\n",
    "11. Graph is a data structure that connects a vertice to a node.\n",
    "\n",
    "12. Hash table is a data structure "
   ]
  },
  {
   "cell_type": "code",
   "execution_count": null,
   "id": "b2b82aee-fa51-4900-8c6a-70fa537601d6",
   "metadata": {},
   "outputs": [],
   "source": []
  }
 ],
 "metadata": {
  "kernelspec": {
   "display_name": "Python [conda env:base] *",
   "language": "python",
   "name": "conda-base-py"
  },
  "language_info": {
   "codemirror_mode": {
    "name": "ipython",
    "version": 3
   },
   "file_extension": ".py",
   "mimetype": "text/x-python",
   "name": "python",
   "nbconvert_exporter": "python",
   "pygments_lexer": "ipython3",
   "version": "3.13.5"
  }
 },
 "nbformat": 4,
 "nbformat_minor": 5
}
